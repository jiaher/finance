{
 "cells": [
  {
   "cell_type": "code",
   "execution_count": 7,
   "metadata": {},
   "outputs": [],
   "source": [
    "import requests, json\n",
    "\n",
    "API_KEY = 'GKR3IRNXN312XR7V'\n",
    "BASE_URL = 'https://www.alphavantage.co/query'"
   ]
  },
  {
   "cell_type": "markdown",
   "metadata": {},
   "source": [
    "## Quote Endpoint ##\n",
    "Returns the latest price and volume information for a ticker"
   ]
  },
  {
   "cell_type": "code",
   "execution_count": null,
   "metadata": {},
   "outputs": [],
   "source": [
    "quoteURL = BASE_URL + '?function=GLOBAL_QUOTE&symbol=MSFT&apikey=' + API_KEY\n",
    "r = requests.get(quoteURL)\n",
    "data = r.json()\n",
    "\n",
    "print(json.dumps(data, indent=4))"
   ]
  },
  {
   "cell_type": "markdown",
   "metadata": {},
   "source": [
    "# Overview\n",
    "Returns company information, financial ratios and other key metrics for a specified equity"
   ]
  },
  {
   "cell_type": "code",
   "execution_count": 11,
   "metadata": {},
   "outputs": [
    {
     "name": "stdout",
     "output_type": "stream",
     "text": [
      "{\n",
      "    \"Symbol\": \"AAPL\",\n",
      "    \"AssetType\": \"Common Stock\",\n",
      "    \"Name\": \"Apple Inc\",\n",
      "    \"Description\": \"Apple Inc. is an American multinational technology company that specializes in consumer electronics, computer software, and online services. Apple is the world's largest technology company by revenue (totalling $274.5 billion in 2020) and, since January 2021, the world's most valuable company. As of 2021, Apple is the world's fourth-largest PC vendor by unit sales, and fourth-largest smartphone manufacturer. It is one of the Big Five American information technology companies, along with Amazon, Google, Microsoft, and Facebook.\",\n",
      "    \"CIK\": \"320193\",\n",
      "    \"Exchange\": \"NASDAQ\",\n",
      "    \"Currency\": \"USD\",\n",
      "    \"Country\": \"USA\",\n",
      "    \"Sector\": \"TECHNOLOGY\",\n",
      "    \"Industry\": \"ELECTRONIC COMPUTERS\",\n",
      "    \"Address\": \"ONE INFINITE LOOP, CUPERTINO, CA, US\",\n",
      "    \"OfficialSite\": \"https://www.apple.com\",\n",
      "    \"FiscalYearEnd\": \"September\",\n",
      "    \"LatestQuarter\": \"2024-09-30\",\n",
      "    \"MarketCapitalization\": \"3846819807000\",\n",
      "    \"EBITDA\": \"134660997000\",\n",
      "    \"PERatio\": \"41.86\",\n",
      "    \"PEGRatio\": \"2.327\",\n",
      "    \"BookValue\": \"3.767\",\n",
      "    \"DividendPerShare\": \"0.98\",\n",
      "    \"DividendYield\": \"0.0039\",\n",
      "    \"EPS\": \"6.08\",\n",
      "    \"RevenuePerShareTTM\": \"25.48\",\n",
      "    \"ProfitMargin\": \"0.24\",\n",
      "    \"OperatingMarginTTM\": \"0.312\",\n",
      "    \"ReturnOnAssetsTTM\": \"0.215\",\n",
      "    \"ReturnOnEquityTTM\": \"1.574\",\n",
      "    \"RevenueTTM\": \"391034995000\",\n",
      "    \"GrossProfitTTM\": \"170782000000\",\n",
      "    \"DilutedEPSTTM\": \"6.08\",\n",
      "    \"QuarterlyEarningsGrowthYOY\": \"-0.341\",\n",
      "    \"QuarterlyRevenueGrowthYOY\": \"0.061\",\n",
      "    \"AnalystTargetPrice\": \"246.26\",\n",
      "    \"AnalystRatingStrongBuy\": \"8\",\n",
      "    \"AnalystRatingBuy\": \"24\",\n",
      "    \"AnalystRatingHold\": \"12\",\n",
      "    \"AnalystRatingSell\": \"1\",\n",
      "    \"AnalystRatingStrongSell\": \"2\",\n",
      "    \"TrailingPE\": \"41.86\",\n",
      "    \"ForwardPE\": \"34.25\",\n",
      "    \"PriceToSalesRatioTTM\": \"9.84\",\n",
      "    \"PriceToBookRatio\": \"67.55\",\n",
      "    \"EVToRevenue\": \"9.94\",\n",
      "    \"EVToEBITDA\": \"28.87\",\n",
      "    \"Beta\": \"1.24\",\n",
      "    \"52WeekHigh\": \"255\",\n",
      "    \"52WeekLow\": \"163.49\",\n",
      "    \"50DayMovingAverage\": \"234.82\",\n",
      "    \"200DayMovingAverage\": \"210.92\",\n",
      "    \"SharesOutstanding\": \"15115800000\",\n",
      "    \"DividendDate\": \"2024-11-14\",\n",
      "    \"ExDividendDate\": \"2024-11-08\"\n",
      "}\n"
     ]
    }
   ],
   "source": [
    "quoteURL = BASE_URL + '?function=OVERVIEW&symbol=AAPL&apikey=' + API_KEY\n",
    "r = requests.get(quoteURL)\n",
    "data = r.json()\n",
    "\n",
    "print(json.dumps(data, indent=4))"
   ]
  }
 ],
 "metadata": {
  "kernelspec": {
   "display_name": "Python 3",
   "language": "python",
   "name": "python3"
  },
  "language_info": {
   "codemirror_mode": {
    "name": "ipython",
    "version": 3
   },
   "file_extension": ".py",
   "mimetype": "text/x-python",
   "name": "python",
   "nbconvert_exporter": "python",
   "pygments_lexer": "ipython3",
   "version": "3.13.1"
  }
 },
 "nbformat": 4,
 "nbformat_minor": 2
}
